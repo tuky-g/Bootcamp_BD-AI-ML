{
  "cells": [
    {
      "cell_type": "markdown",
      "metadata": {
        "id": "fDzsNTxsC55y"
      },
      "source": [
        "## montamos Drive"
      ]
    },
    {
      "cell_type": "code",
      "execution_count": 29,
      "metadata": {
        "colab": {
          "base_uri": "https://localhost:8080/"
        },
        "id": "SxNmJdZKC4b0",
        "outputId": "fbfff1b8-2dc4-41d3-f05a-0d4d680269d6"
      },
      "outputs": [
        {
          "output_type": "stream",
          "name": "stdout",
          "text": [
            "Drive already mounted at /content/drive; to attempt to forcibly remount, call drive.mount(\"/content/drive\", force_remount=True).\n"
          ]
        }
      ],
      "source": [
        "from google.colab import drive\n",
        "drive.mount('/content/drive')"
      ]
    },
    {
      "cell_type": "code",
      "execution_count": 30,
      "metadata": {
        "id": "Z38vq0GQD6HM"
      },
      "outputs": [],
      "source": [
        "path='drive/My Drive/keepcoding/deep_learning/'"
      ]
    },
    {
      "cell_type": "markdown",
      "metadata": {
        "id": "432dca6d"
      },
      "source": [
        "\n",
        "## Importar librerías"
      ]
    },
    {
      "cell_type": "code",
      "execution_count": 3,
      "metadata": {
        "id": "0a15bfd2"
      },
      "outputs": [],
      "source": [
        "import numpy as np\n",
        "import pandas as pd\n",
        "\n",
        "import matplotlib.pyplot as plt\n",
        "\n",
        "import warnings\n",
        "warnings.filterwarnings('ignore')"
      ]
    },
    {
      "cell_type": "markdown",
      "metadata": {
        "id": "83c0b4cb"
      },
      "source": [
        "# Carga de datos e imágenes de test\n",
        "\n",
        "\n",
        "\n"
      ]
    },
    {
      "cell_type": "code",
      "source": [
        "# A partir de este momento cargamos el dataset de train y trabajamos ÚNICAMENTE con él. \n",
        "import numpy as np\n",
        "import pandas as pd\n",
        "\n",
        "test = pd.read_csv(path+'test.csv')\n",
        "im_test=np.load(path+'im_test.npy', allow_pickle=True)\n",
        "\n",
        "print(f'Dimensiones del dataset de test: {test.shape}')\n",
        "print(f'Dimensiones del dataset de test: {test.shape}')"
      ],
      "metadata": {
        "colab": {
          "base_uri": "https://localhost:8080/"
        },
        "id": "rP9GjHULCP8b",
        "outputId": "e61cff32-843b-4262-8560-e60162cd28b6"
      },
      "execution_count": 31,
      "outputs": [
        {
          "output_type": "stream",
          "name": "stdout",
          "text": [
            "Dimensiones del dataset de test: (200, 90)\n",
            "Dimensiones del dataset de test: (200, 90)\n"
          ]
        }
      ]
    },
    {
      "cell_type": "code",
      "source": [],
      "metadata": {
        "id": "gR3FCVokCRN0"
      },
      "execution_count": 5,
      "outputs": []
    },
    {
      "cell_type": "markdown",
      "metadata": {
        "id": "Kresb7bG-wZh"
      },
      "source": [
        "# Preprocesado y data cleaning. Hacemos el mismo que en train"
      ]
    },
    {
      "cell_type": "markdown",
      "metadata": {
        "id": "UIUCTzEh2m4p"
      },
      "source": [
        "Aquí voy a realizar el datacleaning utilizado en el módulo de machine learning"
      ]
    },
    {
      "cell_type": "code",
      "execution_count": 32,
      "metadata": {
        "id": "PfOqVeUC2Qkh"
      },
      "outputs": [],
      "source": [
        "columns_text=['Host Name','Name','Summary','Space','Description','Neighborhood Overview','Host About','Transit','Access','Interaction','House Rules','Features']\n",
        "columns_pais=['City','State','Market','Smart Location','Country','Country Code']\n",
        "columns_neighbourhood=['Street','Neighbourhood','Neighbourhood Cleansed','Neighbourhood Group Cleansed','Zipcode']\n",
        "columns_pct_high=['Host Acceptance Rate', 'Jurisdiction Names', 'Has Availability',\n",
        "       'Experiences Offered', 'License', 'Square Feet', 'Monthly Price',\n",
        "       'Weekly Price', 'Notes']\n",
        "\n",
        "#vemos porcentaje de nulos en los datos\n",
        "test_clean=test.replace('none', np.NaN)\n",
        "test_clean=test_clean.replace('nan', np.NaN)\n",
        "\n",
        "\n",
        "\n",
        "# eliminamos columnas no relevantes\n",
        "test_clean = test_clean.drop(test_clean.columns[test_clean.columns.str.contains(\"Url\")], axis=1)\n",
        "test_clean = test_clean.drop(test_clean.columns[test_clean.columns.str.contains(\"URL\")], axis=1)\n",
        "test_clean = test_clean.drop(test_clean.columns[test_clean.columns.str.contains(\"ID\")], axis=1)\n",
        "test_clean = test_clean.drop(test_clean.columns[test_clean.columns.str.contains(\"Scraped\")], axis=1)\n",
        "test_clean = test_clean.drop(columns_text, axis=1)\n",
        "test_clean = test_clean.drop(columns_pct_high, axis=1)\n",
        "# borrar columnas referidas a localizacion\n",
        "test_clean = test_clean.drop(['Geolocation'], axis=1)\n",
        "test_clean = test_clean.drop(columns_pais, axis=1)\n",
        "test_clean = test_clean.drop(['Host Location','Host Neighbourhood'], axis=1)\n",
        "test_clean = test_clean.drop(['Street','Neighbourhood','Neighbourhood Cleansed','Zipcode'], axis=1)\n"
      ]
    },
    {
      "cell_type": "code",
      "execution_count": 33,
      "metadata": {
        "id": "MYpX4Mew2TDE"
      },
      "outputs": [],
      "source": [
        "# fillna \n",
        "test_clean['Security Deposit']=test_clean['Security Deposit'].fillna(0)\n",
        "\n",
        "# rellenar columnas numericas \n",
        "\n",
        "col_fillna=['Cleaning Fee','Review Scores Location','Review Scores Value','Review Scores Checkin',\n",
        "            'Review Scores Accuracy','Review Scores Communication','Review Scores Cleanliness','Review Scores Rating',\n",
        "           'Reviews per Month','Host Response Rate','Bathrooms','Beds','Bedrooms','Host Total Listings Count','Host Listings Count']\n",
        "\n",
        "for i in col_fillna:\n",
        "    test_clean[i].fillna(test_clean[i].mean(),inplace=True)\n",
        "    \n",
        "# cambiar columnas con fechas por dias hasta dia de referencia\n",
        "col_fechas=['Host Since','First Review','Last Review']\n",
        "dia_ref=pd.to_datetime('2022-01-14')\n",
        "\n",
        "\n",
        "for i in col_fechas:\n",
        "    test_clean[i]=(dia_ref-pd.to_datetime(test_clean[i])).dt.days\n",
        "    test_clean[i]=test_clean[i].fillna(0)\n",
        "    "
      ]
    },
    {
      "cell_type": "code",
      "execution_count": 34,
      "metadata": {
        "id": "f8645781"
      },
      "outputs": [],
      "source": [
        "#variable host verifications\n",
        "\n",
        "mode_host_verif=test_clean['Host Verifications'].mode()[0]\n",
        "test_clean['Host Verifications'].fillna(mode_host_verif,inplace=True)\n",
        "test_clean['Num Host Verifications']=test_clean['Host Verifications'].str.split(',').str.len()\n",
        "test_clean = test_clean.drop('Host Verifications', axis=1)\n",
        "\n",
        "#variable Amenities\n",
        "mode_amenities=test_clean['Amenities'].mode()[0]\n",
        "\n",
        "test_clean['Amenities'].fillna(mode_amenities,inplace=True)\n",
        "test_clean['Num Amenities']=test_clean['Amenities'].str.split(',').str.len()\n",
        "test_clean = test_clean.drop('Amenities', axis=1)"
      ]
    },
    {
      "cell_type": "code",
      "execution_count": 35,
      "metadata": {
        "id": "37bfce51",
        "scrolled": false
      },
      "outputs": [],
      "source": [
        "# property type tiene demasiados valores distintos, resumo los que tienen menos de 10 valores en other\n",
        "iprop=test_clean['Property Type'].value_counts()<10\n",
        "iprop=iprop[iprop==True].index\n",
        "iprop=iprop.insert(1,'Timeshare')\n",
        "iprop=iprop.insert(1,'Boat')\n",
        "\n",
        "test_clean.loc[test_clean[test_clean['Property Type'].isin(iprop)].index,['Property Type']]='Other'"
      ]
    },
    {
      "cell_type": "code",
      "execution_count": 36,
      "metadata": {
        "id": "5ba965f9"
      },
      "outputs": [],
      "source": [
        "# VARIABLEs encoded\n",
        "col_toencode=['Host Response Time','Neighbourhood Group Cleansed','Property Type','Room Type','Bed Type','Cancellation Policy','Calendar Updated']\n",
        "\n",
        "test_clean_encoded=test_clean\n",
        "\n",
        "from sklearn import preprocessing\n",
        "dict_le={}\n",
        "\n",
        "for i in col_toencode: \n",
        "    le=preprocessing.LabelEncoder()\n",
        "    le.fit(test_clean_encoded[i])\n",
        "    dict_le[i]=le\n",
        "    test_clean_encoded[str(i)+'_encoded']=le.transform(test_clean_encoded[i])\n",
        "    test_clean_encoded=test_clean_encoded.drop(i,axis=1)\n",
        "    \n"
      ]
    },
    {
      "cell_type": "code",
      "source": [
        "test_clean_encoded.shape"
      ],
      "metadata": {
        "colab": {
          "base_uri": "https://localhost:8080/"
        },
        "id": "2nvf00vF5EhD",
        "outputId": "1a305aee-56c8-4357-9b0a-dfb1a7378a9b"
      },
      "execution_count": 37,
      "outputs": [
        {
          "output_type": "execute_result",
          "data": {
            "text/plain": [
              "(200, 43)"
            ]
          },
          "metadata": {},
          "execution_count": 37
        }
      ]
    },
    {
      "cell_type": "code",
      "source": [
        "len(test_clean_encoded.columns)"
      ],
      "metadata": {
        "colab": {
          "base_uri": "https://localhost:8080/"
        },
        "id": "tYnfd21TbDVU",
        "outputId": "0e277b74-2e19-461f-f536-b0b70727793d"
      },
      "execution_count": 38,
      "outputs": [
        {
          "output_type": "execute_result",
          "data": {
            "text/plain": [
              "43"
            ]
          },
          "metadata": {},
          "execution_count": 38
        }
      ]
    },
    {
      "cell_type": "markdown",
      "source": [
        "# Normalización de datos"
      ],
      "metadata": {
        "id": "P6k9GudLVcP6"
      }
    },
    {
      "cell_type": "code",
      "source": [
        "y_test = test_clean_encoded['Price'].values    # nos quedamos con price\n",
        "X_test = test_clean_encoded.drop(['Price'],axis=1).values     # nos quedamos con el resto\n",
        "feature_names_test = test_clean_encoded.drop(['Price'],axis=1).columns\n"
      ],
      "metadata": {
        "id": "bBUFVrA7CRQt"
      },
      "execution_count": 39,
      "outputs": []
    },
    {
      "cell_type": "code",
      "source": [
        "from pickle import load\n",
        "XScalerFit = load(open(path+'XScalerFit.pkl', 'rb'))\n",
        "yScalerFit = load(open(path+'yScalerFit.pkl', 'rb'))"
      ],
      "metadata": {
        "id": "RGAbq1o6Wya-"
      },
      "execution_count": 40,
      "outputs": []
    },
    {
      "cell_type": "code",
      "source": [
        "# Generating the standardized values of X and y\n",
        "X_test=XScalerFit.transform(X_test)\n",
        "y_test=y_test.reshape(-1, 1)\n",
        "y_test=yScalerFit.transform(y_test)\n"
      ],
      "metadata": {
        "id": "z_chlpOGCRTP"
      },
      "execution_count": 43,
      "outputs": []
    },
    {
      "cell_type": "code",
      "source": [],
      "metadata": {
        "id": "WGBTs4qKCRWB"
      },
      "execution_count": null,
      "outputs": []
    },
    {
      "cell_type": "code",
      "execution_count": 45,
      "metadata": {
        "colab": {
          "base_uri": "https://localhost:8080/"
        },
        "id": "dG2itVdjCVf7",
        "outputId": "a1607f78-4279-422a-a30c-fe8a0a2d97ed"
      },
      "outputs": [
        {
          "output_type": "stream",
          "name": "stdout",
          "text": [
            "Dimensiones del dataset datos de test: (200, 42)\n",
            "Dimensiones del dataset imagenes de test: (200, 224, 224, 3)\n",
            "Dimensiones del dataset de target de test: (200, 1)\n"
          ]
        }
      ],
      "source": [
        "print(f'Dimensiones del dataset datos de test: {X_test.shape}')\n",
        "print(f'Dimensiones del dataset imagenes de test: {im_test.shape}')\n",
        "print(f'Dimensiones del dataset de target de test: {y_test.shape}')\n"
      ]
    },
    {
      "cell_type": "code",
      "execution_count": 46,
      "metadata": {
        "colab": {
          "base_uri": "https://localhost:8080/"
        },
        "id": "EBNwwvpSAj5b",
        "outputId": "dbba50dc-288b-4830-934c-d9352ad72234"
      },
      "outputs": [
        {
          "output_type": "stream",
          "name": "stdout",
          "text": [
            "(200, 224, 224, 3)\n"
          ]
        }
      ],
      "source": [
        "# importamos los paquetes necesarios\n",
        "from tensorflow.keras import optimizers, Model\n",
        "from tensorflow.keras.applications import InceptionV3, Xception, VGG16, VGG19, ResNet50\n",
        "from tensorflow.keras.applications import imagenet_utils\n",
        "from tensorflow.keras.models import Sequential\n",
        "from tensorflow.keras.layers import Dense, Flatten, Dropout\n",
        "from tensorflow.keras.layers import Conv2D, MaxPooling2D, GlobalAveragePooling2D\n",
        "from tensorflow.keras.applications.inception_v3 import preprocess_input\n",
        "from tensorflow.keras.preprocessing.image import img_to_array\n",
        "from tensorflow.keras.preprocessing.image import load_img\n",
        "from tensorflow.keras.optimizers import Adam\n",
        "from keras.callbacks import EarlyStopping\n",
        "import numpy as np\n",
        "import urllib\n",
        "import cv2\n",
        "import matplotlib.pyplot as plt\n",
        "import imageio as io\n",
        "\n",
        "input_shape = (224, 224, 3)\n",
        "\n",
        "# resize test set\n",
        "im_test_resized = []\n",
        "for img in im_test:\n",
        "  im_test_resized.append(np.resize(img, input_shape) / 255)\n",
        "  \n",
        "im_test_resized = np.array(im_test_resized)\n",
        "print(im_test_resized.shape)\n"
      ]
    },
    {
      "cell_type": "code",
      "source": [],
      "metadata": {
        "id": "J99_cZGYCRZn"
      },
      "execution_count": null,
      "outputs": []
    },
    {
      "cell_type": "markdown",
      "source": [
        "# Cargamos modelos y hacemos predicciones"
      ],
      "metadata": {
        "id": "KA604LesVpMH"
      }
    },
    {
      "cell_type": "code",
      "source": [
        "resultados_train = pd.read_csv(path+'modelos/resultados_train.csv')\n",
        "resultados_train=resultados_train[['Modelo','RMSE','MAE','MAPE','nombre_modelo']]\n",
        "resultados_train = resultados_train.drop_duplicates(['Modelo'],\n",
        "                        keep='first')\n",
        "resultados_train"
      ],
      "metadata": {
        "colab": {
          "base_uri": "https://localhost:8080/",
          "height": 269
        },
        "id": "3tU0JT1JVru8",
        "outputId": "4be2f919-cc4c-4818-b795-8a1f6676e60e"
      },
      "execution_count": 89,
      "outputs": [
        {
          "output_type": "execute_result",
          "data": {
            "text/plain": [
              "          Modelo       RMSE        MAE      MAPE           nombre_modelo\n",
              "0            ANN  46.936785  20.264633  0.382584            model_ANN.h5\n",
              "1        ANN_opt  40.441463  22.174349  0.307909        model_ANN_opt.h5\n",
              "2   CNN_Xception  66.014050  40.473095  0.821547   model_CNN_Xception.h5\n",
              "3        CNN_opt  60.399190  32.718366  0.668366        model_CNN_opt.h5\n",
              "4      CNN_vgg16  60.399190  32.718366  0.668366      model_CNN_vgg16.h5\n",
              "6        ANN+CNN  60.045658  32.580289  0.648674        model_ANN+CNN.h5\n",
              "7  ANN+CNN_vgg16  70.874517  43.470723  2.286409  model_ANN+CNN_vgg16.h5"
            ],
            "text/html": [
              "\n",
              "  <div id=\"df-e2b46c04-142c-4565-8d40-d2d98964b720\">\n",
              "    <div class=\"colab-df-container\">\n",
              "      <div>\n",
              "<style scoped>\n",
              "    .dataframe tbody tr th:only-of-type {\n",
              "        vertical-align: middle;\n",
              "    }\n",
              "\n",
              "    .dataframe tbody tr th {\n",
              "        vertical-align: top;\n",
              "    }\n",
              "\n",
              "    .dataframe thead th {\n",
              "        text-align: right;\n",
              "    }\n",
              "</style>\n",
              "<table border=\"1\" class=\"dataframe\">\n",
              "  <thead>\n",
              "    <tr style=\"text-align: right;\">\n",
              "      <th></th>\n",
              "      <th>Modelo</th>\n",
              "      <th>RMSE</th>\n",
              "      <th>MAE</th>\n",
              "      <th>MAPE</th>\n",
              "      <th>nombre_modelo</th>\n",
              "    </tr>\n",
              "  </thead>\n",
              "  <tbody>\n",
              "    <tr>\n",
              "      <th>0</th>\n",
              "      <td>ANN</td>\n",
              "      <td>46.936785</td>\n",
              "      <td>20.264633</td>\n",
              "      <td>0.382584</td>\n",
              "      <td>model_ANN.h5</td>\n",
              "    </tr>\n",
              "    <tr>\n",
              "      <th>1</th>\n",
              "      <td>ANN_opt</td>\n",
              "      <td>40.441463</td>\n",
              "      <td>22.174349</td>\n",
              "      <td>0.307909</td>\n",
              "      <td>model_ANN_opt.h5</td>\n",
              "    </tr>\n",
              "    <tr>\n",
              "      <th>2</th>\n",
              "      <td>CNN_Xception</td>\n",
              "      <td>66.014050</td>\n",
              "      <td>40.473095</td>\n",
              "      <td>0.821547</td>\n",
              "      <td>model_CNN_Xception.h5</td>\n",
              "    </tr>\n",
              "    <tr>\n",
              "      <th>3</th>\n",
              "      <td>CNN_opt</td>\n",
              "      <td>60.399190</td>\n",
              "      <td>32.718366</td>\n",
              "      <td>0.668366</td>\n",
              "      <td>model_CNN_opt.h5</td>\n",
              "    </tr>\n",
              "    <tr>\n",
              "      <th>4</th>\n",
              "      <td>CNN_vgg16</td>\n",
              "      <td>60.399190</td>\n",
              "      <td>32.718366</td>\n",
              "      <td>0.668366</td>\n",
              "      <td>model_CNN_vgg16.h5</td>\n",
              "    </tr>\n",
              "    <tr>\n",
              "      <th>6</th>\n",
              "      <td>ANN+CNN</td>\n",
              "      <td>60.045658</td>\n",
              "      <td>32.580289</td>\n",
              "      <td>0.648674</td>\n",
              "      <td>model_ANN+CNN.h5</td>\n",
              "    </tr>\n",
              "    <tr>\n",
              "      <th>7</th>\n",
              "      <td>ANN+CNN_vgg16</td>\n",
              "      <td>70.874517</td>\n",
              "      <td>43.470723</td>\n",
              "      <td>2.286409</td>\n",
              "      <td>model_ANN+CNN_vgg16.h5</td>\n",
              "    </tr>\n",
              "  </tbody>\n",
              "</table>\n",
              "</div>\n",
              "      <button class=\"colab-df-convert\" onclick=\"convertToInteractive('df-e2b46c04-142c-4565-8d40-d2d98964b720')\"\n",
              "              title=\"Convert this dataframe to an interactive table.\"\n",
              "              style=\"display:none;\">\n",
              "        \n",
              "  <svg xmlns=\"http://www.w3.org/2000/svg\" height=\"24px\"viewBox=\"0 0 24 24\"\n",
              "       width=\"24px\">\n",
              "    <path d=\"M0 0h24v24H0V0z\" fill=\"none\"/>\n",
              "    <path d=\"M18.56 5.44l.94 2.06.94-2.06 2.06-.94-2.06-.94-.94-2.06-.94 2.06-2.06.94zm-11 1L8.5 8.5l.94-2.06 2.06-.94-2.06-.94L8.5 2.5l-.94 2.06-2.06.94zm10 10l.94 2.06.94-2.06 2.06-.94-2.06-.94-.94-2.06-.94 2.06-2.06.94z\"/><path d=\"M17.41 7.96l-1.37-1.37c-.4-.4-.92-.59-1.43-.59-.52 0-1.04.2-1.43.59L10.3 9.45l-7.72 7.72c-.78.78-.78 2.05 0 2.83L4 21.41c.39.39.9.59 1.41.59.51 0 1.02-.2 1.41-.59l7.78-7.78 2.81-2.81c.8-.78.8-2.07 0-2.86zM5.41 20L4 18.59l7.72-7.72 1.47 1.35L5.41 20z\"/>\n",
              "  </svg>\n",
              "      </button>\n",
              "      \n",
              "  <style>\n",
              "    .colab-df-container {\n",
              "      display:flex;\n",
              "      flex-wrap:wrap;\n",
              "      gap: 12px;\n",
              "    }\n",
              "\n",
              "    .colab-df-convert {\n",
              "      background-color: #E8F0FE;\n",
              "      border: none;\n",
              "      border-radius: 50%;\n",
              "      cursor: pointer;\n",
              "      display: none;\n",
              "      fill: #1967D2;\n",
              "      height: 32px;\n",
              "      padding: 0 0 0 0;\n",
              "      width: 32px;\n",
              "    }\n",
              "\n",
              "    .colab-df-convert:hover {\n",
              "      background-color: #E2EBFA;\n",
              "      box-shadow: 0px 1px 2px rgba(60, 64, 67, 0.3), 0px 1px 3px 1px rgba(60, 64, 67, 0.15);\n",
              "      fill: #174EA6;\n",
              "    }\n",
              "\n",
              "    [theme=dark] .colab-df-convert {\n",
              "      background-color: #3B4455;\n",
              "      fill: #D2E3FC;\n",
              "    }\n",
              "\n",
              "    [theme=dark] .colab-df-convert:hover {\n",
              "      background-color: #434B5C;\n",
              "      box-shadow: 0px 1px 3px 1px rgba(0, 0, 0, 0.15);\n",
              "      filter: drop-shadow(0px 1px 2px rgba(0, 0, 0, 0.3));\n",
              "      fill: #FFFFFF;\n",
              "    }\n",
              "  </style>\n",
              "\n",
              "      <script>\n",
              "        const buttonEl =\n",
              "          document.querySelector('#df-e2b46c04-142c-4565-8d40-d2d98964b720 button.colab-df-convert');\n",
              "        buttonEl.style.display =\n",
              "          google.colab.kernel.accessAllowed ? 'block' : 'none';\n",
              "\n",
              "        async function convertToInteractive(key) {\n",
              "          const element = document.querySelector('#df-e2b46c04-142c-4565-8d40-d2d98964b720');\n",
              "          const dataTable =\n",
              "            await google.colab.kernel.invokeFunction('convertToInteractive',\n",
              "                                                     [key], {});\n",
              "          if (!dataTable) return;\n",
              "\n",
              "          const docLinkHtml = 'Like what you see? Visit the ' +\n",
              "            '<a target=\"_blank\" href=https://colab.research.google.com/notebooks/data_table.ipynb>data table notebook</a>'\n",
              "            + ' to learn more about interactive tables.';\n",
              "          element.innerHTML = '';\n",
              "          dataTable['output_type'] = 'display_data';\n",
              "          await google.colab.output.renderOutput(dataTable, element);\n",
              "          const docLink = document.createElement('div');\n",
              "          docLink.innerHTML = docLinkHtml;\n",
              "          element.appendChild(docLink);\n",
              "        }\n",
              "      </script>\n",
              "    </div>\n",
              "  </div>\n",
              "  "
            ]
          },
          "metadata": {},
          "execution_count": 89
        }
      ]
    },
    {
      "cell_type": "code",
      "source": [
        "import math\n",
        "from sklearn.metrics import mean_squared_error, mean_absolute_error, mean_absolute_percentage_error\n",
        "\n",
        "models_1d=['ANN','ANN_opt']\n",
        "models_2d=['CNN_vgg16','CNN_Xception','CNN_opt']\n",
        "models_comb=['ANN+CNN','ANN+CNN_vgg16']\n",
        "\n",
        "\n",
        "modelo_full=[]\n",
        "rmse_full=[]\n",
        "mae_full=[]\n",
        "mape_full=[]\n",
        "\n",
        "\n",
        "from tensorflow import keras\n",
        "\n",
        "for index,row in resultados_train.iterrows():\n",
        "  model = keras.models.load_model(path+'/modelos/'+str(row['nombre_modelo']))\n",
        "  print(f'Vamos a hacer predicción con modelo:'+str(row['Modelo']))\n",
        "  if row['Modelo'] in models_1d:\n",
        "    print('Utilizo datos 1d')\n",
        "    y_pred=model.predict(X_test)\n",
        "  elif row['Modelo'] in models_2d:\n",
        "    print('Utilizo datos imagenes')\n",
        "    y_pred=model.predict(im_test_resized)\n",
        "  else:\n",
        "    print('Utilizo datos 1d e imagenes')\n",
        "    y_pred=model.predict([X_test,im_test_resized])\n",
        "\n",
        "  y_pred_original=yScalerFit.inverse_transform(y_pred)\n",
        "  y_test_original=yScalerFit.transform(y_test)\n",
        "  # calculamos errores\n",
        "  rmse = math.sqrt(mean_squared_error(y_pred_original, y_test_original))\n",
        "  mae = mean_absolute_error(y_pred_original, y_test_original)\n",
        "  mape = mean_absolute_percentage_error(y_pred_original, y_test_original)\n",
        "  print(mape)\n",
        "  \n",
        "  modelo_full.append(row['Modelo'])\n",
        "  rmse_full.append(rmse)\n",
        "  mae_full.append(mae)\n",
        "  mape_full.append(mape)\n",
        "\n",
        "\n"
      ],
      "metadata": {
        "colab": {
          "base_uri": "https://localhost:8080/"
        },
        "id": "j6QkDN9-d98a",
        "outputId": "68e7a027-b8d5-4d2d-8ff9-5c1b11a72059"
      },
      "execution_count": 90,
      "outputs": [
        {
          "output_type": "stream",
          "name": "stdout",
          "text": [
            "Vamos a hacer predicción con modelo:ANN\n",
            "Utilizo datos 1d\n",
            "7/7 [==============================] - 0s 2ms/step\n",
            "0.9995983457596508\n",
            "Vamos a hacer predicción con modelo:ANN_opt\n",
            "Utilizo datos 1d\n",
            "7/7 [==============================] - 0s 3ms/step\n",
            "0.9999878822721884\n",
            "Vamos a hacer predicción con modelo:CNN_Xception\n",
            "Utilizo datos imagenes\n",
            "7/7 [==============================] - 46s 6s/step\n",
            "1.0002429038100968\n",
            "Vamos a hacer predicción con modelo:CNN_opt\n",
            "Utilizo datos imagenes\n",
            "7/7 [==============================] - 124s 17s/step\n",
            "1.000242764702388\n",
            "Vamos a hacer predicción con modelo:CNN_vgg16\n",
            "Utilizo datos imagenes\n",
            "7/7 [==============================] - 123s 17s/step\n",
            "1.000206955971184\n",
            "Vamos a hacer predicción con modelo:ANN+CNN\n",
            "Utilizo datos 1d e imagenes\n",
            "7/7 [==============================] - 14s 2s/step\n",
            "1.0002352945434327\n",
            "Vamos a hacer predicción con modelo:ANN+CNN_vgg16\n",
            "Utilizo datos 1d e imagenes\n",
            "7/7 [==============================] - 123s 17s/step\n",
            "0.9999931020962429\n"
          ]
        }
      ]
    },
    {
      "cell_type": "code",
      "source": [
        "results=pd.DataFrame()\n",
        "results['Modelo']=modelo_full\n",
        "results['rmse']=rmse_full\n",
        "results['mae']=mae_full\n",
        "results['mape']=mape_full\n",
        "results"
      ],
      "metadata": {
        "colab": {
          "base_uri": "https://localhost:8080/",
          "height": 269
        },
        "id": "2Zd9J12sGHhm",
        "outputId": "5d19e152-da15-4f8f-f6a6-a8b6f3b4bb58"
      },
      "execution_count": 91,
      "outputs": [
        {
          "output_type": "execute_result",
          "data": {
            "text/plain": [
              "          Modelo         rmse          mae      mape\n",
              "0            ANN    34.763534    33.111160  0.999598\n",
              "1        ANN_opt   977.798665   976.886745  0.999988\n",
              "2   CNN_Xception    73.251406    66.691773  1.000243\n",
              "3        CNN_opt    48.891992    48.823791  1.000243\n",
              "4      CNN_vgg16    60.454193    59.324035  1.000207\n",
              "5        ANN+CNN    50.237801    50.237801  1.000235\n",
              "6  ANN+CNN_vgg16  1714.108647  1713.846064  0.999993"
            ],
            "text/html": [
              "\n",
              "  <div id=\"df-b9a0026e-b186-4386-9840-0e07147217fc\">\n",
              "    <div class=\"colab-df-container\">\n",
              "      <div>\n",
              "<style scoped>\n",
              "    .dataframe tbody tr th:only-of-type {\n",
              "        vertical-align: middle;\n",
              "    }\n",
              "\n",
              "    .dataframe tbody tr th {\n",
              "        vertical-align: top;\n",
              "    }\n",
              "\n",
              "    .dataframe thead th {\n",
              "        text-align: right;\n",
              "    }\n",
              "</style>\n",
              "<table border=\"1\" class=\"dataframe\">\n",
              "  <thead>\n",
              "    <tr style=\"text-align: right;\">\n",
              "      <th></th>\n",
              "      <th>Modelo</th>\n",
              "      <th>rmse</th>\n",
              "      <th>mae</th>\n",
              "      <th>mape</th>\n",
              "    </tr>\n",
              "  </thead>\n",
              "  <tbody>\n",
              "    <tr>\n",
              "      <th>0</th>\n",
              "      <td>ANN</td>\n",
              "      <td>34.763534</td>\n",
              "      <td>33.111160</td>\n",
              "      <td>0.999598</td>\n",
              "    </tr>\n",
              "    <tr>\n",
              "      <th>1</th>\n",
              "      <td>ANN_opt</td>\n",
              "      <td>977.798665</td>\n",
              "      <td>976.886745</td>\n",
              "      <td>0.999988</td>\n",
              "    </tr>\n",
              "    <tr>\n",
              "      <th>2</th>\n",
              "      <td>CNN_Xception</td>\n",
              "      <td>73.251406</td>\n",
              "      <td>66.691773</td>\n",
              "      <td>1.000243</td>\n",
              "    </tr>\n",
              "    <tr>\n",
              "      <th>3</th>\n",
              "      <td>CNN_opt</td>\n",
              "      <td>48.891992</td>\n",
              "      <td>48.823791</td>\n",
              "      <td>1.000243</td>\n",
              "    </tr>\n",
              "    <tr>\n",
              "      <th>4</th>\n",
              "      <td>CNN_vgg16</td>\n",
              "      <td>60.454193</td>\n",
              "      <td>59.324035</td>\n",
              "      <td>1.000207</td>\n",
              "    </tr>\n",
              "    <tr>\n",
              "      <th>5</th>\n",
              "      <td>ANN+CNN</td>\n",
              "      <td>50.237801</td>\n",
              "      <td>50.237801</td>\n",
              "      <td>1.000235</td>\n",
              "    </tr>\n",
              "    <tr>\n",
              "      <th>6</th>\n",
              "      <td>ANN+CNN_vgg16</td>\n",
              "      <td>1714.108647</td>\n",
              "      <td>1713.846064</td>\n",
              "      <td>0.999993</td>\n",
              "    </tr>\n",
              "  </tbody>\n",
              "</table>\n",
              "</div>\n",
              "      <button class=\"colab-df-convert\" onclick=\"convertToInteractive('df-b9a0026e-b186-4386-9840-0e07147217fc')\"\n",
              "              title=\"Convert this dataframe to an interactive table.\"\n",
              "              style=\"display:none;\">\n",
              "        \n",
              "  <svg xmlns=\"http://www.w3.org/2000/svg\" height=\"24px\"viewBox=\"0 0 24 24\"\n",
              "       width=\"24px\">\n",
              "    <path d=\"M0 0h24v24H0V0z\" fill=\"none\"/>\n",
              "    <path d=\"M18.56 5.44l.94 2.06.94-2.06 2.06-.94-2.06-.94-.94-2.06-.94 2.06-2.06.94zm-11 1L8.5 8.5l.94-2.06 2.06-.94-2.06-.94L8.5 2.5l-.94 2.06-2.06.94zm10 10l.94 2.06.94-2.06 2.06-.94-2.06-.94-.94-2.06-.94 2.06-2.06.94z\"/><path d=\"M17.41 7.96l-1.37-1.37c-.4-.4-.92-.59-1.43-.59-.52 0-1.04.2-1.43.59L10.3 9.45l-7.72 7.72c-.78.78-.78 2.05 0 2.83L4 21.41c.39.39.9.59 1.41.59.51 0 1.02-.2 1.41-.59l7.78-7.78 2.81-2.81c.8-.78.8-2.07 0-2.86zM5.41 20L4 18.59l7.72-7.72 1.47 1.35L5.41 20z\"/>\n",
              "  </svg>\n",
              "      </button>\n",
              "      \n",
              "  <style>\n",
              "    .colab-df-container {\n",
              "      display:flex;\n",
              "      flex-wrap:wrap;\n",
              "      gap: 12px;\n",
              "    }\n",
              "\n",
              "    .colab-df-convert {\n",
              "      background-color: #E8F0FE;\n",
              "      border: none;\n",
              "      border-radius: 50%;\n",
              "      cursor: pointer;\n",
              "      display: none;\n",
              "      fill: #1967D2;\n",
              "      height: 32px;\n",
              "      padding: 0 0 0 0;\n",
              "      width: 32px;\n",
              "    }\n",
              "\n",
              "    .colab-df-convert:hover {\n",
              "      background-color: #E2EBFA;\n",
              "      box-shadow: 0px 1px 2px rgba(60, 64, 67, 0.3), 0px 1px 3px 1px rgba(60, 64, 67, 0.15);\n",
              "      fill: #174EA6;\n",
              "    }\n",
              "\n",
              "    [theme=dark] .colab-df-convert {\n",
              "      background-color: #3B4455;\n",
              "      fill: #D2E3FC;\n",
              "    }\n",
              "\n",
              "    [theme=dark] .colab-df-convert:hover {\n",
              "      background-color: #434B5C;\n",
              "      box-shadow: 0px 1px 3px 1px rgba(0, 0, 0, 0.15);\n",
              "      filter: drop-shadow(0px 1px 2px rgba(0, 0, 0, 0.3));\n",
              "      fill: #FFFFFF;\n",
              "    }\n",
              "  </style>\n",
              "\n",
              "      <script>\n",
              "        const buttonEl =\n",
              "          document.querySelector('#df-b9a0026e-b186-4386-9840-0e07147217fc button.colab-df-convert');\n",
              "        buttonEl.style.display =\n",
              "          google.colab.kernel.accessAllowed ? 'block' : 'none';\n",
              "\n",
              "        async function convertToInteractive(key) {\n",
              "          const element = document.querySelector('#df-b9a0026e-b186-4386-9840-0e07147217fc');\n",
              "          const dataTable =\n",
              "            await google.colab.kernel.invokeFunction('convertToInteractive',\n",
              "                                                     [key], {});\n",
              "          if (!dataTable) return;\n",
              "\n",
              "          const docLinkHtml = 'Like what you see? Visit the ' +\n",
              "            '<a target=\"_blank\" href=https://colab.research.google.com/notebooks/data_table.ipynb>data table notebook</a>'\n",
              "            + ' to learn more about interactive tables.';\n",
              "          element.innerHTML = '';\n",
              "          dataTable['output_type'] = 'display_data';\n",
              "          await google.colab.output.renderOutput(dataTable, element);\n",
              "          const docLink = document.createElement('div');\n",
              "          docLink.innerHTML = docLinkHtml;\n",
              "          element.appendChild(docLink);\n",
              "        }\n",
              "      </script>\n",
              "    </div>\n",
              "  </div>\n",
              "  "
            ]
          },
          "metadata": {},
          "execution_count": 91
        }
      ]
    },
    {
      "cell_type": "markdown",
      "source": [
        "En vista a los resultados escojo el modelo más sencillo la red neuronal porque tiene menor error y es más facil de entrenar. \n",
        "En el caso de los otros modelos, creo que entenandolos más o con mayor número de muestras podrían dar resultados mucho mejores."
      ],
      "metadata": {
        "id": "jXzPPC6UTHQ-"
      }
    }
  ],
  "metadata": {
    "colab": {
      "provenance": []
    },
    "kernelspec": {
      "display_name": "Python 3",
      "name": "python3"
    },
    "language_info": {
      "name": "python"
    }
  },
  "nbformat": 4,
  "nbformat_minor": 0
}